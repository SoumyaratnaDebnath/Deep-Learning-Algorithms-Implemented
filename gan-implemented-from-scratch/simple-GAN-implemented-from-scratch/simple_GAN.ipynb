{
 "cells": [
  {
   "cell_type": "code",
   "execution_count": 8,
   "metadata": {},
   "outputs": [],
   "source": [
    "import torch\n",
    "import torch.nn as nn\n",
    "import torch.optim as optim\n",
    "import torchvision.datasets as datasets\n",
    "from torch.utils.data import DataLoader\n",
    "from torchvision import transforms\n",
    "# from torch.utils.tensorboard import SummaryWriter\n",
    "import torchvision"
   ]
  },
  {
   "cell_type": "code",
   "execution_count": 9,
   "metadata": {},
   "outputs": [],
   "source": [
    "class Discriminator(nn.Module):\n",
    "    def __init__(self, img_dim):\n",
    "        super().__init__()\n",
    "        self.disc = nn.Sequential(\n",
    "            nn.Linear(img_dim, 128),\n",
    "            nn.LeakyReLU(0.1), # Leaky ReLU = f(x) = max(0.01*x, x)\n",
    "            nn.Linear(128, 1), # 128 -> 1 because we just need to predict if it is real or fake, so fake is zero, real is 1\n",
    "            nn.Sigmoid(), # sigmoid for scaling between 0 and 1\n",
    "        )\n",
    "\n",
    "    def forward(self, x):\n",
    "        return self.disc(x)"
   ]
  },
  {
   "cell_type": "code",
   "execution_count": 10,
   "metadata": {},
   "outputs": [],
   "source": [
    "class Generator(nn.Module):\n",
    "    def __init__(self, z_dim, img_dim): # z_dim is the dimension of the latent noice that the generator will use to create new samples\n",
    "        super().__init__() \n",
    "        self.gen = nn.Sequential(\n",
    "            nn.Linear(z_dim, 256),\n",
    "            nn.LeakyReLU(0.1),\n",
    "            nn.Linear(256, img_dim),\n",
    "            nn.Tanh(), # tanh for ensuring that the value is between -1 and 1, beacuse that how we3 are going to scale our inputs\n",
    "                       # tanh = (e^x – e^-x) / (e^x + e^-x)\n",
    "        )\n",
    "    \n",
    "    def forward(self, x):\n",
    "        return self.gen(x)"
   ]
  },
  {
   "cell_type": "code",
   "execution_count": 11,
   "metadata": {},
   "outputs": [
    {
     "name": "stdout",
     "output_type": "stream",
     "text": [
      "cuda\n"
     ]
    }
   ],
   "source": [
    "# Hyperparameters - GAN is very sensitive to hyperparameters\n",
    "device = \"cuda\" if torch.cuda.is_available() else \"cpu\"\n",
    "print(device)\n",
    "\n",
    "lr = 3e-4\n",
    "z_dim = 64\n",
    "img_dim = 28 * 28 * 1\n",
    "batch_size = 32\n",
    "epochs = 50"
   ]
  },
  {
   "cell_type": "code",
   "execution_count": 12,
   "metadata": {},
   "outputs": [],
   "source": [
    "disc = Discriminator(img_dim).to(device)\n",
    "gen = Generator(z_dim, img_dim).to(device)\n",
    "fixed_noise = torch.randn((batch_size, z_dim)).to(device) # will be used to see how good the generater is getting over time\n",
    "transforms = transforms.Compose(\n",
    "    [transforms.ToTensor(), transforms.Normalize((0.5),(0.5))] # these are the actual mean and sd for MNIST dataset\n",
    ")\n",
    "dataset = datasets.MNIST(root=\"dataset/\", transform=transforms, download=True)\n",
    "loader = DataLoader(dataset, batch_size=batch_size, shuffle=True)\n",
    "opt_disc = optim.Adam(disc.parameters(), lr=lr)\n",
    "opt_gen = optim.Adam(gen.parameters(), lr=lr)\n",
    "criterion = nn.BCELoss()"
   ]
  },
  {
   "cell_type": "code",
   "execution_count": 13,
   "metadata": {},
   "outputs": [],
   "source": [
    "# setup tensorboard\n",
    "# writer_fake = SummaryWriter(f\"runs/GAN_MNSIT/fake\")\n",
    "# writer_real = SummaryWriter(f\"runs/GAN_MNSIT/real\")\n",
    "# step = 0\n",
    "import os\n",
    "os.mkdir('runs')\n",
    "os.mkdir('runs/real')\n",
    "os.mkdir('runs/fake')"
   ]
  },
  {
   "cell_type": "markdown",
   "metadata": {},
   "source": [
    "$BCE Loss = -w_n[y_n log(x_n) + (1 - y_n)log(1 - x_n)]$"
   ]
  },
  {
   "cell_type": "code",
   "execution_count": 14,
   "metadata": {},
   "outputs": [
    {
     "name": "stdout",
     "output_type": "stream",
     "text": [
      "Epoch[0/50] LossD:0.7176, LossG:0.748\n",
      "Epoch[1/50] LossD:0.3233, LossG:1.533\n",
      "Epoch[2/50] LossD:0.7922, LossG:0.8395\n",
      "Epoch[3/50] LossD:1.127, LossG:0.4905\n",
      "Epoch[4/50] LossD:0.665, LossG:0.9109\n",
      "Epoch[5/50] LossD:0.752, LossG:0.7621\n",
      "Epoch[6/50] LossD:0.8487, LossG:0.7157\n",
      "Epoch[7/50] LossD:0.6298, LossG:0.8206\n",
      "Epoch[8/50] LossD:0.5119, LossG:1.16\n",
      "Epoch[9/50] LossD:0.4942, LossG:1.479\n",
      "Epoch[10/50] LossD:0.8003, LossG:0.8304\n",
      "Epoch[11/50] LossD:0.9386, LossG:0.5095\n",
      "Epoch[12/50] LossD:0.5659, LossG:1.171\n",
      "Epoch[13/50] LossD:0.928, LossG:0.8423\n",
      "Epoch[14/50] LossD:0.758, LossG:0.9671\n",
      "Epoch[15/50] LossD:0.8722, LossG:1.1\n",
      "Epoch[16/50] LossD:0.4591, LossG:1.513\n",
      "Epoch[17/50] LossD:0.8951, LossG:0.739\n",
      "Epoch[18/50] LossD:0.7035, LossG:1.302\n",
      "Epoch[19/50] LossD:0.7011, LossG:0.916\n",
      "Epoch[20/50] LossD:0.6532, LossG:0.8266\n",
      "Epoch[21/50] LossD:0.7117, LossG:0.6831\n",
      "Epoch[22/50] LossD:0.6569, LossG:1.014\n",
      "Epoch[23/50] LossD:0.4741, LossG:1.294\n",
      "Epoch[24/50] LossD:0.5496, LossG:1.186\n",
      "Epoch[25/50] LossD:0.5502, LossG:0.9994\n",
      "Epoch[26/50] LossD:0.5906, LossG:0.9295\n",
      "Epoch[27/50] LossD:0.7491, LossG:0.9611\n",
      "Epoch[28/50] LossD:0.5977, LossG:0.9926\n",
      "Epoch[29/50] LossD:0.6861, LossG:0.9105\n",
      "Epoch[30/50] LossD:0.6419, LossG:0.8771\n",
      "Epoch[31/50] LossD:0.5856, LossG:0.8262\n",
      "Epoch[32/50] LossD:0.6426, LossG:1.083\n",
      "Epoch[33/50] LossD:0.6693, LossG:0.9711\n",
      "Epoch[34/50] LossD:0.5629, LossG:1.084\n",
      "Epoch[35/50] LossD:0.7018, LossG:0.8562\n",
      "Epoch[36/50] LossD:0.532, LossG:0.9831\n",
      "Epoch[37/50] LossD:0.6091, LossG:1.076\n",
      "Epoch[38/50] LossD:0.5825, LossG:0.9462\n",
      "Epoch[39/50] LossD:0.8209, LossG:0.8264\n",
      "Epoch[40/50] LossD:0.5885, LossG:1.052\n",
      "Epoch[41/50] LossD:0.6863, LossG:0.7932\n",
      "Epoch[42/50] LossD:0.7316, LossG:1.02\n",
      "Epoch[43/50] LossD:0.6893, LossG:0.8677\n",
      "Epoch[44/50] LossD:0.6222, LossG:1.056\n",
      "Epoch[45/50] LossD:0.7359, LossG:0.7974\n",
      "Epoch[46/50] LossD:0.7115, LossG:0.8014\n",
      "Epoch[47/50] LossD:0.6429, LossG:0.812\n",
      "Epoch[48/50] LossD:0.7248, LossG:0.8817\n",
      "Epoch[49/50] LossD:0.7587, LossG:0.9053\n"
     ]
    }
   ],
   "source": [
    "for epoch in range(epochs):\n",
    "    for batch_idx, (real, _) in enumerate(loader):\n",
    "        real = real.view(-1, 784).to(device)\n",
    "        bacth_size = real.shape[0]\n",
    "\n",
    "        ### training for discriminator : max log(D(real)) + log(1-D(G(noise)))\n",
    "        noise = torch.randn(bacth_size, z_dim).to(device)\n",
    "        fake = gen(noise)\n",
    "        disc_real = disc(real).view(-1)\n",
    "        lossD_real = criterion(disc_real, torch.ones_like(disc_real)) # note how we have passed 1 in the second papram (y) to remove that (1-y) part from the loss term\n",
    "                                                                      # now, we need to maximize it, and due the the presence of -ve sign, we need to minimize this\n",
    "        disc_fake = disc(fake).view(-1)\n",
    "        lossD_fake = criterion(disc_fake, torch.zeros_like(disc_fake)) # note how we have passed 0 in the second tem here (y), and we need to minimize it due to -ve sign\n",
    "        lossD = (lossD_real + lossD_fake)/2\n",
    "        disc.zero_grad()\n",
    "        lossD.backward(retain_graph = True) # retarining the graph so that torch do not fluses everting so that we can use the 'fake' for discriminatoir as well\n",
    "        opt_disc.step()\n",
    "\n",
    "        ### training the generator : min log(1-D(G(z))) -> this eqn saturates the gradients (results slower tarining); a better sol is max log(D(G(z)))\n",
    "        output = disc(fake).view(-1)\n",
    "        lossG = criterion(output, torch.ones_like(output))\n",
    "        gen.zero_grad()\n",
    "        lossG.backward()\n",
    "        opt_gen.step()\n",
    "\n",
    "        ### additional code for tensorboard\n",
    "        if batch_idx == 0:\n",
    "            print(\n",
    "                f\"Epoch[{epoch}/{epochs}] LossD:{lossD:.4}, LossG:{lossG:.4}\"\n",
    "            )\n",
    "\n",
    "        if (epoch+1)%10 == 0 and batch_idx == 0:\n",
    "            with torch.no_grad():\n",
    "                fake = gen(fixed_noise).reshape(-1, 1, 28, 28)\n",
    "                data = real.reshape(-1, 1, 28, 28)\n",
    "                img_grid_fake = torchvision.utils.make_grid(fake, normalize=True)\n",
    "                img_grid_real = torchvision.utils.make_grid(data, normalize=True)\n",
    "                # save the images as png\n",
    "                torchvision.utils.save_image(img_grid_fake, f\"runs/fake/{epoch+1}.png\")\n",
    "                torchvision.utils.save_image(img_grid_real, f\"runs/real/{epoch+1}.png\")\n",
    "            \n",
    "\n",
    "            # writer_fake.add_image(\n",
    "            #     \"MNIST Fake\", img_grid_fake, global_step=step\n",
    "            # )\n",
    "            # writer_real.add_image(\n",
    "            #     \"MNIST Real\", img_grid_real, global_step=step\n",
    "            # )"
   ]
  },
  {
   "cell_type": "code",
   "execution_count": 15,
   "metadata": {},
   "outputs": [],
   "source": [
    "# !tensorboard --logdir=runs/ --host=localhost --port=8888"
   ]
  },
  {
   "cell_type": "code",
   "execution_count": null,
   "metadata": {},
   "outputs": [],
   "source": []
  }
 ],
 "metadata": {
  "kernelspec": {
   "display_name": "vision_env",
   "language": "python",
   "name": "python3"
  },
  "language_info": {
   "codemirror_mode": {
    "name": "ipython",
    "version": 3
   },
   "file_extension": ".py",
   "mimetype": "text/x-python",
   "name": "python",
   "nbconvert_exporter": "python",
   "pygments_lexer": "ipython3",
   "version": "3.9.0"
  }
 },
 "nbformat": 4,
 "nbformat_minor": 2
}
